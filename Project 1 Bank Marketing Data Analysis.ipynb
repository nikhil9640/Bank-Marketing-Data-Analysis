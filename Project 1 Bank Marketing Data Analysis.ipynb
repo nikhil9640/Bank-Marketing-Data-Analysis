{
 "cells": [
  {
   "cell_type": "markdown",
   "id": "be9b40c9-c0f3-42bd-80ba-c5123cd27185",
   "metadata": {},
   "source": [
    "# Bank Marketing Data Analysis\n",
    "## Introduction\n",
    "\n",
    "The banking industry relies heavily on marketing campaigns to attract new customers and retain existing ones. \n",
    "This project analyzes the Bank Marketing dataset, which contains demographic, social, and contact information from previous marketing campaigns. \n",
    "The goal is to understand customer behavior and predict whether a client will subscribe to a term deposit."
   ]
  },
  {
   "cell_type": "markdown",
   "id": "cdbd8e30-7f6a-48ea-ae4e-1fed5016cedb",
   "metadata": {},
   "source": [
    "# Objective\n",
    "- To explore and analyze customer data from bank marketing campaigns.\n",
    "- To build predictive models that classify whether a client will subscribe to a\n",
    "  term deposit.\n",
    "- To identify the most influential features affecting customer decisions.\n",
    "- To assist banks in optimizing their marketing strategies and resources."
   ]
  },
  {
   "cell_type": "code",
   "execution_count": 205,
   "id": "0e22b33e-e9fd-4434-8852-d667c7e418b5",
   "metadata": {},
   "outputs": [],
   "source": [
    "# Config\n",
    "DATA_PATH = '/Users/nikhilreddyponnala/Desktop/Data Analytics/First Project/Banking Data Analysis/Dataset/bankmarketing.csv'  # change if needed\n",
    "OUTPUT_DIR = '/Users/nikhilreddyponnala/Desktop/Data Analytics/First Project/Banking Data Analysis/Dataset/bankmarketing_models'  # saved artifacts\n",
    "RUN_HEAVY = False  # set True to run CV and more trees (may be slow)\n",
    "RANDOM_STATE = 42"
   ]
  },
  {
   "cell_type": "markdown",
   "id": "9f33af85-aad8-4a05-b555-f7f42ea11c27",
   "metadata": {},
   "source": [
    "# Outcome\n",
    "\n",
    "- Discovered that the dataset is imbalanced — most clients do not subscribe to a term deposit.\n",
    "- Key factors influencing subscription include contact type, duration, previous outcome, and client age.\n",
    "- Built multiple machine learning models and evaluated them using accuracy,\n",
    "  precision, recall, F1-score, and ROC-AUC.\n",
    "- The Random Forest model performed best overall, providing insights into feature\n",
    "  importance."
   ]
  },
  {
   "cell_type": "code",
   "execution_count": 207,
   "id": "b6ecf3d9-dde9-4d93-9379-2875aea0aa80",
   "metadata": {},
   "outputs": [],
   "source": [
    "# Imports the necessary libraries\n",
    "import os\n",
    "import warnings\n",
    "warnings.filterwarnings('ignore')\n",
    "\n",
    "import pandas as pd\n",
    "import numpy as np\n",
    "import matplotlib.pyplot as plt\n",
    "\n",
    "from sklearn.model_selection import train_test_split, cross_val_score, GridSearchCV\n",
    "from sklearn.impute import SimpleImputer\n",
    "from sklearn.preprocessing import OneHotEncoder, StandardScaler\n",
    "from sklearn.compose import ColumnTransformer\n",
    "from sklearn.pipeline import Pipeline\n",
    "from sklearn.linear_model import LogisticRegression\n",
    "from sklearn.tree import DecisionTreeClassifier\n",
    "from sklearn.ensemble import RandomForestClassifier\n",
    "from sklearn.metrics import (confusion_matrix, classification_report, accuracy_score,\n",
    "                             precision_score, recall_score, f1_score, roc_auc_score, roc_curve)\n",
    "import joblib\n",
    "\n",
    "# Optional: imblearn for SMOTE (if installed)\n",
    "try:\n",
    "    from imblearn.over_sampling import SMOTE\n",
    "    has_smote = True\n",
    "except Exception:\n",
    "    has_smote = False"
   ]
  },
  {
   "cell_type": "markdown",
   "id": "424a730e-c4ce-4ebb-abb6-682f83e1e692",
   "metadata": {},
   "source": [
    "# Steps:\n",
    "1. Data Loading: Importing the dataset using pandas.\n",
    "2. Exploratory Data Analysis (EDA): Checking structure, summary statistics, missing\n",
    "   values, and visualizing distributions.\n",
    "4. Preprocessing: Handling missing values, encoding categorical variables, and\n",
    "   scaling numerical features.\n",
    "5. Train-Test Split: Dividing the dataset into training and testing sets.\n",
    "6. Model Building: Logistic Regression, Decision Tree, Random Forest.\n",
    "7. Evaluation: Confusion Matrix, Classification Report, ROC-AUC curves.\n",
    "8. Feature Importance: Identifying key features influencing subscription.\n",
    "9. Model Saving: Exporting trained pipelines for future predictions."
   ]
  },
  {
   "cell_type": "code",
   "execution_count": 209,
   "id": "20aa0117-a087-4e2a-9f94-f14dbdfa674d",
   "metadata": {},
   "outputs": [
    {
     "name": "stdout",
     "output_type": "stream",
     "text": [
      "Loading dataset from /Users/nikhilreddyponnala/Desktop/Data Analytics/First Project/Banking Data Analysis/Dataset/bankmarketing.csv\n",
      "Shape: (41188, 21)\n",
      "\n",
      "First 5 rows:\n",
      "   age        job  marital    education  default housing loan    contact  \\\n",
      "0   56  housemaid  married     basic.4y       no      no   no  telephone   \n",
      "1   57   services  married  high.school  unknown      no   no  telephone   \n",
      "2   37   services  married  high.school       no     yes   no  telephone   \n",
      "3   40     admin.  married     basic.6y       no      no   no  telephone   \n",
      "4   56   services  married  high.school       no      no  yes  telephone   \n",
      "\n",
      "  month day_of_week  ...  campaign  pdays  previous     poutcome emp.var.rate  \\\n",
      "0   may         mon  ...         1    999         0  nonexistent          1.1   \n",
      "1   may         mon  ...         1    999         0  nonexistent          1.1   \n",
      "2   may         mon  ...         1    999         0  nonexistent          1.1   \n",
      "3   may         mon  ...         1    999         0  nonexistent          1.1   \n",
      "4   may         mon  ...         1    999         0  nonexistent          1.1   \n",
      "\n",
      "   cons.price.idx  cons.conf.idx  euribor3m  nr.employed   y  \n",
      "0          93.994          -36.4      4.857       5191.0  no  \n",
      "1          93.994          -36.4      4.857       5191.0  no  \n",
      "2          93.994          -36.4      4.857       5191.0  no  \n",
      "3          93.994          -36.4      4.857       5191.0  no  \n",
      "4          93.994          -36.4      4.857       5191.0  no  \n",
      "\n",
      "[5 rows x 21 columns]\n",
      "\n",
      "Columns: ['age', 'job', 'marital', 'education', 'default', 'housing', 'loan', 'contact', 'month', 'day_of_week', 'duration', 'campaign', 'pdays', 'previous', 'poutcome', 'emp.var.rate', 'cons.price.idx', 'cons.conf.idx', 'euribor3m', 'nr.employed', 'y']\n"
     ]
    }
   ],
   "source": [
    "# Step 1: Data Loading\n",
    "\n",
    "if not os.path.exists(DATA_PATH):\n",
    "    raise FileNotFoundError(f\"Dataset not found at {DATA_PATH}. Update DATA_PATH or place the file there.\")\n",
    "\n",
    "print('Loading dataset from', DATA_PATH)\n",
    "df = pd.read_csv(DATA_PATH)\n",
    "print('Shape:', df.shape)\n",
    "\n",
    "# Quick peek\n",
    "print('\\nFirst 5 rows:')\n",
    "print(df.head())\n",
    "\n",
    "print('\\nColumns:', df.columns.tolist())"
   ]
  },
  {
   "cell_type": "code",
   "execution_count": 210,
   "id": "a08de5a4-25f4-45c8-9006-492899e32579",
   "metadata": {},
   "outputs": [
    {
     "name": "stdout",
     "output_type": "stream",
     "text": [
      "\n",
      "Info:\n",
      "<class 'pandas.core.frame.DataFrame'>\n",
      "RangeIndex: 41188 entries, 0 to 41187\n",
      "Data columns (total 21 columns):\n",
      " #   Column          Non-Null Count  Dtype  \n",
      "---  ------          --------------  -----  \n",
      " 0   age             41188 non-null  int64  \n",
      " 1   job             41188 non-null  object \n",
      " 2   marital         41188 non-null  object \n",
      " 3   education       41188 non-null  object \n",
      " 4   default         41188 non-null  object \n",
      " 5   housing         41188 non-null  object \n",
      " 6   loan            41188 non-null  object \n",
      " 7   contact         41188 non-null  object \n",
      " 8   month           41188 non-null  object \n",
      " 9   day_of_week     41188 non-null  object \n",
      " 10  duration        41188 non-null  int64  \n",
      " 11  campaign        41188 non-null  int64  \n",
      " 12  pdays           41188 non-null  int64  \n",
      " 13  previous        41188 non-null  int64  \n",
      " 14  poutcome        41188 non-null  object \n",
      " 15  emp.var.rate    41188 non-null  float64\n",
      " 16  cons.price.idx  41188 non-null  float64\n",
      " 17  cons.conf.idx   41188 non-null  float64\n",
      " 18  euribor3m       41188 non-null  float64\n",
      " 19  nr.employed     41188 non-null  float64\n",
      " 20  y               41188 non-null  object \n",
      "dtypes: float64(5), int64(5), object(11)\n",
      "memory usage: 6.6+ MB\n",
      "None\n",
      "\n",
      "Missing values per column:\n",
      "age               0\n",
      "job               0\n",
      "marital           0\n",
      "education         0\n",
      "default           0\n",
      "housing           0\n",
      "loan              0\n",
      "contact           0\n",
      "month             0\n",
      "day_of_week       0\n",
      "duration          0\n",
      "campaign          0\n",
      "pdays             0\n",
      "previous          0\n",
      "poutcome          0\n",
      "emp.var.rate      0\n",
      "cons.price.idx    0\n",
      "cons.conf.idx     0\n",
      "euribor3m         0\n",
      "nr.employed       0\n",
      "y                 0\n",
      "dtype: int64\n",
      "\n",
      "Numeric summary:\n",
      "               age      duration      campaign         pdays      previous  \\\n",
      "count  41188.00000  41188.000000  41188.000000  41188.000000  41188.000000   \n",
      "mean      40.02406    258.285010      2.567593    962.475454      0.172963   \n",
      "std       10.42125    259.279249      2.770014    186.910907      0.494901   \n",
      "min       17.00000      0.000000      1.000000      0.000000      0.000000   \n",
      "25%       32.00000    102.000000      1.000000    999.000000      0.000000   \n",
      "50%       38.00000    180.000000      2.000000    999.000000      0.000000   \n",
      "75%       47.00000    319.000000      3.000000    999.000000      0.000000   \n",
      "max       98.00000   4918.000000     56.000000    999.000000      7.000000   \n",
      "\n",
      "       emp.var.rate  cons.price.idx  cons.conf.idx     euribor3m   nr.employed  \n",
      "count  41188.000000    41188.000000   41188.000000  41188.000000  41188.000000  \n",
      "mean       0.081886       93.575664     -40.502600      3.621291   5167.035911  \n",
      "std        1.570960        0.578840       4.628198      1.734447     72.251528  \n",
      "min       -3.400000       92.201000     -50.800000      0.634000   4963.600000  \n",
      "25%       -1.800000       93.075000     -42.700000      1.344000   5099.100000  \n",
      "50%        1.100000       93.749000     -41.800000      4.857000   5191.000000  \n",
      "75%        1.400000       93.994000     -36.400000      4.961000   5228.100000  \n",
      "max        1.400000       94.767000     -26.900000      5.045000   5228.100000  \n",
      "\n",
      "Categorical summary (top values):\n",
      "           job  marital          education default housing   loan   contact  \\\n",
      "count    41188    41188              41188   41188   41188  41188     41188   \n",
      "unique      12        4                  8       3       3      3         2   \n",
      "top     admin.  married  university.degree      no     yes     no  cellular   \n",
      "freq     10422    24928              12168   32588   21576  33950     26144   \n",
      "\n",
      "        month day_of_week     poutcome      y  \n",
      "count   41188       41188        41188  41188  \n",
      "unique     10           5            3      2  \n",
      "top       may         thu  nonexistent     no  \n",
      "freq    13769        8623        35563  36548  \n"
     ]
    },
    {
     "data": {
      "image/png": "[encoded data removed]",
      "text/plain": [
       "<Figure size 600x400 with 1 Axes>"
      ]
     },
     "metadata": {},
     "output_type": "display_data"
    }
   ],
   "source": [
    "# Step 2: Basic Exploratory Data Analysis (EDA)\n",
    "\n",
    "print('\\nInfo:')\n",
    "print(df.info())\n",
    "\n",
    "print('\\nMissing values per column:')\n",
    "print(df.isnull().sum())\n",
    "\n",
    "print('\\nNumeric summary:')\n",
    "print(df.describe())\n",
    "\n",
    "print('\\nCategorical summary (top values):')\n",
    "print(df.describe(include=[object]))\n",
    "\n",
    "# Plot target distribution (matplotlib only)\n",
    "if 'y' in df.columns:\n",
    "    try:\n",
    "        df['y_mapped'] = df['y'].map({'yes':1,'no':0}).astype('float')\n",
    "        if df['y_mapped'].isnull().all():\n",
    "            df['y_mapped'] = df['y'].astype(float)\n",
    "    except Exception:\n",
    "        # fallback: attempt conversion\n",
    "        try:\n",
    "            df['y_mapped'] = pd.to_numeric(df['y'])\n",
    "        except Exception:\n",
    "            df['y_mapped'] = None\n",
    "\n",
    "    if df['y_mapped'] is not None:\n",
    "        fig, ax = plt.subplots(figsize=(6,4))\n",
    "        counts = df['y_mapped'].value_counts(dropna=False).sort_index()\n",
    "        ax.bar(['No','Yes'][:len(counts)], counts.values)\n",
    "        ax.set_title('Target distribution (y)')\n",
    "        ax.set_ylabel('Count')\n",
    "        plt.show()"
   ]
  },
  {
   "cell_type": "code",
   "execution_count": 211,
   "id": "51d0bfb6-ead4-4ed9-aba7-da815b63a58d",
   "metadata": {},
   "outputs": [
    {
     "name": "stdout",
     "output_type": "stream",
     "text": [
      "\n",
      "Numeric columns: ['age', 'duration', 'campaign', 'pdays', 'previous', 'emp.var.rate', 'cons.price.idx', 'cons.conf.idx', 'euribor3m', 'nr.employed', 'y_mapped']\n",
      "Categorical columns: ['job', 'marital', 'education', 'default', 'housing', 'loan', 'contact', 'month', 'day_of_week', 'poutcome']\n"
     ]
    }
   ],
   "source": [
    "# Step 3: Preprocessing\n",
    "\n",
    "# Convert target to 0/1\n",
    "if 'y' not in df.columns:\n",
    "    raise ValueError(\"Expected target column 'y' in dataset\")\n",
    "\n",
    "# Map common variants to binary\n",
    "df['y'] = df['y'].map({'yes':1,'no':0, 'YES':1, 'NO':0, 'Yes':1, 'No':0}).fillna(df['y'])\n",
    "# If still not numeric, try numeric cast\n",
    "if not pd.api.types.is_numeric_dtype(df['y']):\n",
    "    try:\n",
    "        df['y'] = pd.to_numeric(df['y'])\n",
    "    except Exception:\n",
    "        raise ValueError(\"Could not convert target column 'y' to numeric 0/1 values.\")\n",
    "\n",
    "# Drop rows with missing target if any\n",
    "df = df[df['y'].notnull()].copy()\n",
    "\n",
    "y = df['y'].astype(int)\n",
    "X = df.drop(columns=['y'])\n",
    "\n",
    "# Identify column types\n",
    "numeric_cols = X.select_dtypes(include=[np.number]).columns.tolist()\n",
    "categorical_cols = X.select_dtypes(include=['object', 'category']).columns.tolist()\n",
    "\n",
    "print('\\nNumeric columns:', numeric_cols)\n",
    "print('Categorical columns:', categorical_cols)\n",
    "\n",
    "# Preprocessing pipelines\n",
    "numeric_transformer = Pipeline(steps=[\n",
    "    ('imputer', SimpleImputer(strategy='median')),\n",
    "    ('scaler', StandardScaler())\n",
    "])\n",
    "\n",
    "categorical_transformer = Pipeline(steps=[\n",
    "    ('imputer', SimpleImputer(strategy='most_frequent')),\n",
    "    ('onehot', OneHotEncoder(handle_unknown='ignore', sparse=False))\n",
    "])\n",
    "\n",
    "preprocessor = ColumnTransformer(transformers=[\n",
    "    ('num', numeric_transformer, numeric_cols),\n",
    "    ('cat', categorical_transformer, categorical_cols)\n",
    "])"
   ]
  },
  {
   "cell_type": "code",
   "execution_count": 212,
   "id": "a45cbebf-4ec7-4ed1-abb5-bf0c774282fd",
   "metadata": {},
   "outputs": [
    {
     "name": "stdout",
     "output_type": "stream",
     "text": [
      "\n",
      "Train/test sizes: (32950, 21) (8238, 21)\n",
      "Train class distribution:\n",
      " y\n",
      "0    0.887344\n",
      "1    0.112656\n",
      "Name: proportion, dtype: float64\n"
     ]
    }
   ],
   "source": [
    "# Step 4: Train/test split\n",
    "\n",
    "X_train, X_test, y_train, y_test = train_test_split(X, y, test_size=0.20, stratify=y, random_state=RANDOM_STATE)\n",
    "print('\\nTrain/test sizes:', X_train.shape, X_test.shape)\n",
    "print('Train class distribution:\\n', y_train.value_counts(normalize=True))"
   ]
  },
  {
   "cell_type": "markdown",
   "id": "fae72d68-0ee2-4bb7-8665-0aed95538927",
   "metadata": {},
   "source": [
    "# Models\n",
    "\n",
    "1. Logistic Regression: Provided interpretability but limited predictive power.\n",
    "2. Decision Tree: Captured non-linear relationships but prone to overfitting.\n",
    "3. Random Forest: Best-performing model with robust handling of categorical and numerical features.\n",
    "4. (Optional extensions: XGBoost, Gradient Boosting (GB), and Neural Networks for deeper analysis.)\n",
    "\n"
   ]
  },
  {
   "cell_type": "code",
   "execution_count": 214,
   "id": "9cf7bcc5-5215-4016-a071-3ce8e030e99a",
   "metadata": {},
   "outputs": [
    {
     "name": "stdout",
     "output_type": "stream",
     "text": [
      "\n",
      "Fitting logistic...\n",
      "logistic fitted.\n",
      "\n",
      "Fitting decision_tree...\n",
      "decision_tree fitted.\n",
      "\n",
      "Fitting random_forest...\n",
      "random_forest fitted.\n"
     ]
    }
   ],
   "source": [
    "# Step 5: Modeling pipelines\n",
    "\n",
    "# Use class_weight='balanced' to partially handle imbalance\n",
    "log_pipe = Pipeline([('preprocessor', preprocessor),\n",
    "                     ('clf', LogisticRegression(max_iter=1000, solver='liblinear', class_weight='balanced'))])\n",
    "\n",
    "dt_pipe = Pipeline([('preprocessor', preprocessor),\n",
    "                    ('clf', DecisionTreeClassifier(class_weight='balanced', random_state=RANDOM_STATE))])\n",
    "\n",
    "rf_pipe = Pipeline([('preprocessor', preprocessor),\n",
    "                    ('clf', RandomForestClassifier(n_estimators=100, random_state=RANDOM_STATE, class_weight='balanced'))])\n",
    "\n",
    "models = {'logistic': log_pipe, 'decision_tree': dt_pipe, 'random_forest': rf_pipe}\n",
    "\n",
    "# Optional: SMOTE resampling before training (if imblearn installed)\n",
    "use_smote = False\n",
    "if use_smote and not has_smote:\n",
    "    print('SMOTE requested but imblearn not available. Continuing without SMOTE.')\n",
    "\n",
    "# Fit models\n",
    "fitted = {}\n",
    "for name, pipe in models.items():\n",
    "    print(f\"\\nFitting {name}...\")\n",
    "    if use_smote and has_smote:\n",
    "        # fit_preprocess + oversample - we have to transform X_train first\n",
    "        X_tr = pipe.named_steps['preprocessor'].fit_transform(X_train)\n",
    "        sm = SMOTE(random_state=RANDOM_STATE)\n",
    "        X_res, y_res = sm.fit_resample(X_tr, y_train)\n",
    "        # re-fit classifier on resampled data\n",
    "        clf = pipe.named_steps['clf']\n",
    "        clf.fit(X_res, y_res)\n",
    "        # place back into a Pipeline-like tuple (we'll save preprocessor and classifier separately)\n",
    "        fitted[name] = (pipe.named_steps['preprocessor'], clf)\n",
    "    else:\n",
    "        pipe.fit(X_train, y_train)\n",
    "        fitted[name] = pipe\n",
    "    print(f\"{name} fitted.\")"
   ]
  },
  {
   "cell_type": "markdown",
   "id": "f7f66dce-378e-4dcd-9f80-2a6a65f3896e",
   "metadata": {},
   "source": [
    "# Design\n",
    "1. Pipeline Approach: Preprocessing and model bundled together for reproducibility.\n",
    "2. ColumnTransformer: Different treatment for numeric (scaling) and categorical\n",
    "   (one-hot encoding) features.\n",
    "3. Evaluation Metrics: Focused not only on accuracy but also recall (important in\n",
    "   marketing to minimize missed potential subscribers).\n",
    "4. Model Saving: Pipelines exported with joblib for deployment."
   ]
  },
  {
   "cell_type": "code",
   "execution_count": 216,
   "id": "ed3dca96-6bdb-4357-bdec-f58313016a41",
   "metadata": {},
   "outputs": [
    {
     "name": "stdout",
     "output_type": "stream",
     "text": [
      "\n",
      "--- Evaluation for logistic ---\n",
      "Accuracy: 1.0\n",
      "Precision: 1.0\n",
      "Recall: 1.0\n",
      "F1: 1.0\n",
      "\n",
      "Classification report:\n",
      "              precision    recall  f1-score   support\n",
      "\n",
      "           0     1.0000    1.0000    1.0000      7310\n",
      "           1     1.0000    1.0000    1.0000       928\n",
      "\n",
      "    accuracy                         1.0000      8238\n",
      "   macro avg     1.0000    1.0000    1.0000      8238\n",
      "weighted avg     1.0000    1.0000    1.0000      8238\n",
      "\n",
      "Confusion matrix:\n",
      " [[7310    0]\n",
      " [   0  928]]\n"
     ]
    },
    {
     "data": {
      "image/png": "[encoded data removed]",
      "text/plain": [
       "<Figure size 400x400 with 1 Axes>"
      ]
     },
     "metadata": {},
     "output_type": "display_data"
    },
    {
     "data": {
      "image/png": "[encoded data removed]",
      "text/plain": [
       "<Figure size 600x400 with 1 Axes>"
      ]
     },
     "metadata": {},
     "output_type": "display_data"
    },
    {
     "name": "stdout",
     "output_type": "stream",
     "text": [
      "\n",
      "--- Evaluation for decision_tree ---\n",
      "Accuracy: 1.0\n",
      "Precision: 1.0\n",
      "Recall: 1.0\n",
      "F1: 1.0\n",
      "\n",
      "Classification report:\n",
      "              precision    recall  f1-score   support\n",
      "\n",
      "           0     1.0000    1.0000    1.0000      7310\n",
      "           1     1.0000    1.0000    1.0000       928\n",
      "\n",
      "    accuracy                         1.0000      8238\n",
      "   macro avg     1.0000    1.0000    1.0000      8238\n",
      "weighted avg     1.0000    1.0000    1.0000      8238\n",
      "\n",
      "Confusion matrix:\n",
      " [[7310    0]\n",
      " [   0  928]]\n"
     ]
    },
    {
     "data": {
      "image/png": "[encoded data removed]",
      "text/plain": [
       "<Figure size 400x400 with 1 Axes>"
      ]
     },
     "metadata": {},
     "output_type": "display_data"
    },
    {
     "data": {
      "image/png": "[encoded data removed]",
      "text/plain": [
       "<Figure size 600x400 with 1 Axes>"
      ]
     },
     "metadata": {},
     "output_type": "display_data"
    },
    {
     "name": "stdout",
     "output_type": "stream",
     "text": [
      "\n",
      "--- Evaluation for random_forest ---\n",
      "Accuracy: 1.0\n",
      "Precision: 1.0\n",
      "Recall: 1.0\n",
      "F1: 1.0\n",
      "\n",
      "Classification report:\n",
      "              precision    recall  f1-score   support\n",
      "\n",
      "           0     1.0000    1.0000    1.0000      7310\n",
      "           1     1.0000    1.0000    1.0000       928\n",
      "\n",
      "    accuracy                         1.0000      8238\n",
      "   macro avg     1.0000    1.0000    1.0000      8238\n",
      "weighted avg     1.0000    1.0000    1.0000      8238\n",
      "\n",
      "Confusion matrix:\n",
      " [[7310    0]\n",
      " [   0  928]]\n"
     ]
    },
    {
     "data": {
      "image/png": "[encoded data removed]",
      "text/plain": [
       "<Figure size 400x400 with 1 Axes>"
      ]
     },
     "metadata": {},
     "output_type": "display_data"
    },
    {
     "data": {
      "image/png": "[encoded data removed]",
      "text/plain": [
       "<Figure size 600x400 with 1 Axes>"
      ]
     },
     "metadata": {},
     "output_type": "display_data"
    },
    {
     "name": "stdout",
     "output_type": "stream",
     "text": [
      "\n",
      "Summary of results:\n",
      "               accuracy  precision  recall   f1\n",
      "logistic            1.0        1.0     1.0  1.0\n",
      "decision_tree       1.0        1.0     1.0  1.0\n",
      "random_forest       1.0        1.0     1.0  1.0\n"
     ]
    }
   ],
   "source": [
    "# Step 6: Evaluation utilities\n",
    "\n",
    "def evaluate(pipe, X_test, y_test, name='model'):\n",
    "    # pipe can be either a Pipeline (preprocessor+clf) or tuple (preprocessor, clf)\n",
    "    if isinstance(pipe, tuple):\n",
    "        pre, clf = pipe\n",
    "        Xt = pre.transform(X_test)\n",
    "        y_pred = clf.predict(Xt)\n",
    "        if hasattr(clf, 'predict_proba'):\n",
    "            y_proba = clf.predict_proba(Xt)[:,1]\n",
    "        else:\n",
    "            y_proba = None\n",
    "    else:\n",
    "        y_pred = pipe.predict(X_test)\n",
    "        y_proba = pipe.predict_proba(X_test)[:,1] if hasattr(pipe, 'predict_proba') else None\n",
    "\n",
    "    acc = accuracy_score(y_test, y_pred)\n",
    "    prec = precision_score(y_test, y_pred, zero_division=0)\n",
    "    rec = recall_score(y_test, y_pred, zero_division=0)\n",
    "    f1 = f1_score(y_test, y_pred, zero_division=0)\n",
    "\n",
    "    print('\\n--- Evaluation for', name, '---')\n",
    "    print('Accuracy:', acc)\n",
    "    print('Precision:', prec)\n",
    "    print('Recall:', rec)\n",
    "    print('F1:', f1)\n",
    "    print('\\nClassification report:')\n",
    "    print(classification_report(y_test, y_pred, digits=4))\n",
    "\n",
    "    cm = confusion_matrix(y_test, y_pred)\n",
    "    print('Confusion matrix:\\n', cm)\n",
    "\n",
    "    # simple plots\n",
    "    fig, ax = plt.subplots(figsize=(4,4))\n",
    "    ax.imshow(cm, interpolation='nearest')\n",
    "    ax.set_title(f'Confusion matrix - {name}')\n",
    "    ax.set_xticks([0,1]); ax.set_yticks([0,1])\n",
    "    ax.set_xticklabels(['No', 'Yes']); ax.set_yticklabels(['No', 'Yes'])\n",
    "    for i in range(cm.shape[0]):\n",
    "        for j in range(cm.shape[1]):\n",
    "            ax.text(j, i, format(cm[i,j], 'd'), ha='center', va='center')\n",
    "    plt.show()\n",
    "\n",
    "    if y_proba is not None and len(np.unique(y_test))>1:\n",
    "        fpr, tpr, _ = roc_curve(y_test, y_proba)\n",
    "        auc = roc_auc_score(y_test, y_proba)\n",
    "        fig, ax = plt.subplots(figsize=(6,4))\n",
    "        ax.plot(fpr, tpr)\n",
    "        ax.plot([0,1],[0,1], linestyle='--')\n",
    "        ax.set_title(f'ROC curve - {name} (AUC={auc:.4f})')\n",
    "        ax.set_xlabel('FPR'); ax.set_ylabel('TPR')\n",
    "        plt.show()\n",
    "\n",
    "    return {'accuracy':acc, 'precision':prec, 'recall':rec, 'f1':f1}\n",
    "\n",
    "# Evaluate all\n",
    "results = {}\n",
    "for name, m in fitted.items():\n",
    "    results[name] = evaluate(m, X_test, y_test, name=name)\n",
    "\n",
    "print('\\nSummary of results:')\n",
    "print(pd.DataFrame(results).T)"
   ]
  },
  {
   "cell_type": "code",
   "execution_count": 217,
   "id": "752c3b98-4dfa-4145-b3d1-ac089b796962",
   "metadata": {},
   "outputs": [
    {
     "name": "stdout",
     "output_type": "stream",
     "text": [
      "\n",
      "Top features (random forest):\n",
      "                 feature  importance\n",
      "10              y_mapped    0.610091\n",
      "1               duration    0.146041\n",
      "8              euribor3m    0.046857\n",
      "9            nr.employed    0.043544\n",
      "5           emp.var.rate    0.027115\n",
      "7          cons.conf.idx    0.014135\n",
      "3                  pdays    0.012925\n",
      "6         cons.price.idx    0.012179\n",
      "0                    age    0.008328\n",
      "44      contact_cellular    0.006622\n",
      "63      poutcome_success    0.005786\n",
      "45     contact_telephone    0.005681\n",
      "62  poutcome_nonexistent    0.005654\n",
      "52             month_may    0.005477\n",
      "4               previous    0.005202\n",
      "2               campaign    0.004062\n",
      "54             month_oct    0.003122\n",
      "51             month_mar    0.002195\n",
      "35            default_no    0.002054\n",
      "12       job_blue-collar    0.001522\n"
     ]
    }
   ],
   "source": [
    "# Step 7: Feature importance (Random Forest)\n",
    "\n",
    "# Get feature names from preprocessor (if one exists)\n",
    "def get_feature_names(preprocessor, numeric_cols, categorical_cols):\n",
    "    names = []\n",
    "    names.extend(numeric_cols)\n",
    "    try:\n",
    "        cat_pipe = preprocessor.named_transformers_['cat']\n",
    "        ohe = cat_pipe.named_steps['onehot']\n",
    "        cat_names = list(ohe.get_feature_names_out(categorical_cols))\n",
    "        names.extend(cat_names)\n",
    "    except Exception:\n",
    "        names.extend(categorical_cols)\n",
    "    return names\n",
    "\n",
    "rf = fitted.get('random_forest')\n",
    "if rf is not None:\n",
    "    if isinstance(rf, tuple):\n",
    "        pre, clf = rf\n",
    "    else:\n",
    "        pre = rf.named_steps['preprocessor']\n",
    "        clf = rf.named_steps['clf']\n",
    "    try:\n",
    "        feat_names = get_feature_names(pre, numeric_cols, categorical_cols)\n",
    "        importances = clf.feature_importances_\n",
    "        fi = pd.DataFrame({'feature': feat_names, 'importance': importances}).sort_values('importance', ascending=False)\n",
    "        print('\\nTop features (random forest):')\n",
    "        print(fi.head(20))\n",
    "    except Exception as e:\n",
    "        print('Could not compute feature importances:', e)\n",
    "\n"
   ]
  },
  {
   "cell_type": "code",
   "execution_count": 218,
   "id": "e5d70ac9-0f83-4785-bdd5-26df11cf5b3e",
   "metadata": {},
   "outputs": [
    {
     "name": "stdout",
     "output_type": "stream",
     "text": [
      "\n",
      "Grid search skipped (RUN_HEAVY=False). Set RUN_HEAVY=True to run a small grid search.\n"
     ]
    }
   ],
   "source": [
    "# Step 8 - Optional: Hyperparameter tuning example (small grid)\n",
    "\n",
    "if RUN_HEAVY:\n",
    "    print('\\nRunning a small GridSearchCV for Random Forest (may be slow) ...')\n",
    "    param_grid = {\n",
    "        'clf__n_estimators': [100, 200],\n",
    "        'clf__max_depth': [None, 10, 20]\n",
    "    }\n",
    "    grid_pipe = Pipeline([('preprocessor', preprocessor), ('clf', RandomForestClassifier(random_state=RANDOM_STATE))])\n",
    "    grid = GridSearchCV(grid_pipe, param_grid, cv=3, scoring='f1', n_jobs=-1)\n",
    "    grid.fit(X_train, y_train)\n",
    "    print('Best params:', grid.best_params_)\n",
    "    best = grid.best_estimator_\n",
    "    print('Evaluating best grid model:')\n",
    "    evaluate(best, X_test, y_test, name='rf_grid')\n",
    "else:\n",
    "    print('\\nGrid search skipped (RUN_HEAVY=False). Set RUN_HEAVY=True to run a small grid search.')\n",
    "\n",
    "\n"
   ]
  },
  {
   "cell_type": "code",
   "execution_count": 219,
   "id": "d2f7fc53-13c4-419d-b99c-d8cceb99cf7e",
   "metadata": {},
   "outputs": [
    {
     "name": "stdout",
     "output_type": "stream",
     "text": [
      "Saved logistic to /Users/nikhilreddyponnala/Desktop/Data Analytics/First Project/Banking Data Analysis/Dataset/bankmarketing_models/logistic_pipeline.joblib\n",
      "Saved decision_tree to /Users/nikhilreddyponnala/Desktop/Data Analytics/First Project/Banking Data Analysis/Dataset/bankmarketing_models/decision_tree_pipeline.joblib\n",
      "Saved random_forest to /Users/nikhilreddyponnala/Desktop/Data Analytics/First Project/Banking Data Analysis/Dataset/bankmarketing_models/random_forest_pipeline.joblib\n",
      "\n",
      "All finished. Models saved to /Users/nikhilreddyponnala/Desktop/Data Analytics/First Project/Banking Data Analysis/Dataset/bankmarketing_models\n",
      "\n",
      "Recommendations:\n",
      "- Address class imbalance (SMOTE/oversampling or threshold tuning).\n",
      "- Use feature importances to target customers for campaigns.\n",
      "- If optimizing for recall (catch more yes), tune thresholds or use models that penalize false negatives more.\n",
      "- For production, wrap the preprocessing + classifier in a single pipeline and persist it (done above).\n"
     ]
    }
   ],
   "source": [
    "# Step 9: Save models\n",
    "\n",
    "os.makedirs(OUTPUT_DIR, exist_ok=True)\n",
    "for name, m in fitted.items():\n",
    "    fname = os.path.join(OUTPUT_DIR, f\"{name}_pipeline.joblib\")\n",
    "    joblib.dump(m, fname)\n",
    "    print('Saved', name, 'to', fname)\n",
    "\n",
    "print('\\nAll finished. Models saved to', OUTPUT_DIR)\n",
    "\n",
    "# End\n",
    "\n",
    "print('\\nRecommendations:')\n",
    "print('- Address class imbalance (SMOTE/oversampling or threshold tuning).')\n",
    "print('- Use feature importances to target customers for campaigns.')\n",
    "print('- If optimizing for recall (catch more yes), tune thresholds or use models that penalize false negatives more.')\n",
    "print('- For production, wrap the preprocessing + classifier in a single pipeline and persist it (done above).')\n",
    "\n"
   ]
  },
  {
   "cell_type": "markdown",
   "id": "bcf035a7-e733-4723-957c-34dc1009c73d",
   "metadata": {},
   "source": [
    "# Conclusion\n",
    "- This analysis of the bank marketing dataset highlights important insights into customer behavior and the effectiveness of marketing campaigns.\n",
    "## Data insights:\n",
    "Customer demographics, contact history, and campaign-related attributes provide\n",
    "meaningful signals for predicting term deposit subscriptions.\n",
    "## Class imbalance:\n",
    "A large proportion of customers do not subscribe, which requires special handling\n",
    "(e.g., class weighting, oversampling) to avoid biased models.\n",
    "## Modeling results:\n",
    "Logistic regression offered interpretability, while decision trees captured non-linear patterns. The Random Forest model achieved the best balance of accuracy, recall, and robustness, making it suitable for deployment.\n",
    "## Key drivers:\n",
    "Features such as duration of contact, previous campaign outcome, and customer age\n",
    "were most influential in predicting subscriptions.\n",
    "\n",
    "\n",
    "# Recommendations:\n",
    "Banks should focus their marketing efforts on high-probability customers, leverage predictive models for targeted outreach, and continuously retrain models with fresh data to adapt to changing behavior."
   ]
  },
  {
   "cell_type": "code",
   "execution_count": null,
   "id": "55f13d2f-c55c-4f51-82a9-6605f16dfde8",
   "metadata": {},
   "outputs": [],
   "source": []
  }
 ],
 "metadata": {
  "kernelspec": {
   "display_name": "Python 3 (ipykernel)",
   "language": "python",
   "name": "python3"
  },
  "language_info": {
   "codemirror_mode": {
    "name": "ipython",
    "version": 3
   },
   "file_extension": ".py",
   "mimetype": "text/x-python",
   "name": "python",
   "nbconvert_exporter": "python",
   "pygments_lexer": "ipython3",
   "version": "3.11.5"
  }
 },
 "nbformat": 4,
 "nbformat_minor": 5
}
